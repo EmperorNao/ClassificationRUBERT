{
  "nbformat": 4,
  "nbformat_minor": 0,
  "metadata": {
    "colab": {
      "name": "job_BERT.ipynb",
      "provenance": [],
      "collapsed_sections": []
    },
    "kernelspec": {
      "name": "python3",
      "display_name": "Python 3"
    }
  },
  "cells": [
    {
      "cell_type": "code",
      "metadata": {
        "id": "1FGtHhGWpCH3"
      },
      "source": [
        "from google.colab import files"
      ],
      "execution_count": null,
      "outputs": []
    },
    {
      "cell_type": "code",
      "metadata": {
        "id": "AD4ouJ-BpLdn",
        "outputId": "c0de42f7-5355-4573-87b1-1a236acdbfc8",
        "colab": {
          "resources": {
            "http://localhost:8080/nbextensions/google.colab/files.js": {
              "data": "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",
              "ok": true,
              "headers": [
                [
                  "content-type",
                  "application/javascript"
                ]
              ],
              "status": 200,
              "status_text": ""
            }
          },
          "base_uri": "https://localhost:8080/",
          "height": 72
        }
      },
      "source": [
        "files.upload()"
      ],
      "execution_count": null,
      "outputs": [
        {
          "output_type": "display_data",
          "data": {
            "text/html": [
              "\n",
              "     <input type=\"file\" id=\"files-2287d740-b4f3-4936-a9a1-f77d7648708c\" name=\"files[]\" multiple disabled\n",
              "        style=\"border:none\" />\n",
              "     <output id=\"result-2287d740-b4f3-4936-a9a1-f77d7648708c\">\n",
              "      Upload widget is only available when the cell has been executed in the\n",
              "      current browser session. Please rerun this cell to enable.\n",
              "      </output>\n",
              "      <script src=\"/nbextensions/google.colab/files.js\"></script> "
            ],
            "text/plain": [
              "<IPython.core.display.HTML object>"
            ]
          },
          "metadata": {
            "tags": []
          }
        },
        {
          "output_type": "stream",
          "text": [
            "Saving good_data.csv to good_data.csv\n"
          ],
          "name": "stdout"
        }
      ]
    },
    {
      "cell_type": "code",
      "metadata": {
        "id": "L2qwyinCVUeg",
        "outputId": "870b2f4a-800f-435f-c469-08ac66957a04",
        "colab": {
          "base_uri": "https://localhost:8080/"
        }
      },
      "source": [
        "pip install pymorphy2"
      ],
      "execution_count": null,
      "outputs": [
        {
          "output_type": "stream",
          "text": [
            "Collecting pymorphy2\n",
            "\u001b[?25l  Downloading https://files.pythonhosted.org/packages/07/57/b2ff2fae3376d4f3c697b9886b64a54b476e1a332c67eee9f88e7f1ae8c9/pymorphy2-0.9.1-py3-none-any.whl (55kB)\n",
            "\r\u001b[K     |██████                          | 10kB 17.4MB/s eta 0:00:01\r\u001b[K     |███████████▉                    | 20kB 1.7MB/s eta 0:00:01\r\u001b[K     |█████████████████▊              | 30kB 2.2MB/s eta 0:00:01\r\u001b[K     |███████████████████████▋        | 40kB 2.5MB/s eta 0:00:01\r\u001b[K     |█████████████████████████████▌  | 51kB 2.0MB/s eta 0:00:01\r\u001b[K     |████████████████████████████████| 61kB 1.8MB/s \n",
            "\u001b[?25hCollecting dawg-python>=0.7.1\n",
            "  Downloading https://files.pythonhosted.org/packages/6a/84/ff1ce2071d4c650ec85745766c0047ccc3b5036f1d03559fd46bb38b5eeb/DAWG_Python-0.7.2-py2.py3-none-any.whl\n",
            "Collecting pymorphy2-dicts-ru<3.0,>=2.4\n",
            "\u001b[?25l  Downloading https://files.pythonhosted.org/packages/3a/79/bea0021eeb7eeefde22ef9e96badf174068a2dd20264b9a378f2be1cdd9e/pymorphy2_dicts_ru-2.4.417127.4579844-py2.py3-none-any.whl (8.2MB)\n",
            "\u001b[K     |████████████████████████████████| 8.2MB 5.5MB/s \n",
            "\u001b[?25hRequirement already satisfied: docopt>=0.6 in /usr/local/lib/python3.6/dist-packages (from pymorphy2) (0.6.2)\n",
            "Installing collected packages: dawg-python, pymorphy2-dicts-ru, pymorphy2\n",
            "Successfully installed dawg-python-0.7.2 pymorphy2-0.9.1 pymorphy2-dicts-ru-2.4.417127.4579844\n"
          ],
          "name": "stdout"
        }
      ]
    },
    {
      "cell_type": "code",
      "metadata": {
        "id": "J9_91sk4pTXx"
      },
      "source": [
        "import pandas as pd\n",
        "import seaborn as sns\n",
        "import re\n",
        "import pymorphy2 "
      ],
      "execution_count": null,
      "outputs": []
    },
    {
      "cell_type": "code",
      "metadata": {
        "id": "sddtDt_Cpag4"
      },
      "source": [
        "data = pd.read_csv(\"good_data.csv\")\n",
        "column_name_str={'description','name','executor','responsibleperson_msg','responsibleperson_name'}"
      ],
      "execution_count": null,
      "outputs": []
    },
    {
      "cell_type": "markdown",
      "metadata": {
        "id": "hxomFvDk1BTw"
      },
      "source": [
        "Отображение табличных данных"
      ]
    },
    {
      "cell_type": "code",
      "metadata": {
        "id": "rUfYOV8f0tIh",
        "outputId": "66a2eda6-4499-4468-867f-6687651c65b5",
        "colab": {
          "base_uri": "https://localhost:8080/",
          "height": 1000
        }
      },
      "source": [
        "pd.set_option('max_rows', 5)\n",
        "pd.set_option('display.max_colwidth', None)\n",
        "pd.set_option('display.float_format', '{:.2f}'.format)\n",
        "data"
      ],
      "execution_count": null,
      "outputs": [
        {
          "output_type": "execute_result",
          "data": {
            "text/html": [
              "<div>\n",
              "<style scoped>\n",
              "    .dataframe tbody tr th:only-of-type {\n",
              "        vertical-align: middle;\n",
              "    }\n",
              "\n",
              "    .dataframe tbody tr th {\n",
              "        vertical-align: top;\n",
              "    }\n",
              "\n",
              "    .dataframe thead th {\n",
              "        text-align: right;\n",
              "    }\n",
              "</style>\n",
              "<table border=\"1\" class=\"dataframe\">\n",
              "  <thead>\n",
              "    <tr style=\"text-align: right;\">\n",
              "      <th></th>\n",
              "      <th>Unnamed: 0</th>\n",
              "      <th>description</th>\n",
              "      <th>entity_id</th>\n",
              "      <th>status</th>\n",
              "      <th>name</th>\n",
              "      <th>is_photo_request</th>\n",
              "      <th>is_photo_answer</th>\n",
              "      <th>executor</th>\n",
              "      <th>responsibleperson_msg</th>\n",
              "      <th>moderateperson_msg</th>\n",
              "      <th>privateperson_msg</th>\n",
              "      <th>responsibleperson_name</th>\n",
              "      <th>moderateperson_name</th>\n",
              "      <th>privateperson_name</th>\n",
              "      <th>days_to_solve</th>\n",
              "    </tr>\n",
              "  </thead>\n",
              "  <tbody>\n",
              "    <tr>\n",
              "      <th>0</th>\n",
              "      <td>0</td>\n",
              "      <td>&lt;p&gt;Проживаем по улице Привольная, дом 1. Нас обслуживает управляющая компания РЭУ№6. Напротив дома находится детская игровая площадка или ее подобие. На единственную качель невозможно посадить ребенка, сиденье сломано. В песочнице мусор, за песочницей мусор. Лавочка тоже сломана, покрашена ужасно-эстетически неприятно даже смотреть на это безобразие, не то что проводить свободное время. Просим посодействовать в наведении порядка на нашей детской площадке!!! Есть в нашем районе детские площадки, например по Привольной,13. Глаз радует: все окрашено яркими цветами, отремонтировано, песок завезен, чистота и порядок, дети , мамочки с колясками- все там гуляют. Это оказывается такую красоту навели ООО &amp;quot;Первая Сервисная Компания по жилью&amp;quot;. Повезло тем домам, которые обслуживаются в этой компании.&lt;/p&gt;</td>\n",
              "      <td>1044</td>\n",
              "      <td>verified</td>\n",
              "      <td>Неудовлетворительное содержание детской (спортивной) площадки на территории многоквартирных домов</td>\n",
              "      <td>0</td>\n",
              "      <td>0</td>\n",
              "      <td>Администрация городского округа «Город Белгород»</td>\n",
              "      <td>| Уважаемый Пользователь портала! Отделом по жилищному контролю и защите прав потребителей в сфере ЖКХ администрации города Белгорода рассмотрено Ваше обращение по вопросу обслуживания детской площадки на дворовой территории многоквартирного дома № 1 по ул. Привольная. Сообщаем, что на указанной территории ООО «УК РЭУ № 6» выполнены работы по ремонту и окраске сиденья качели и скамейки, уборке мусора, о чем имеется фотоочёт.</td>\n",
              "      <td>NaN</td>\n",
              "      <td>NaN</td>\n",
              "      <td>| Администрация городского округа «Город Белгород»</td>\n",
              "      <td>NaN</td>\n",
              "      <td>nan</td>\n",
              "      <td>0.00</td>\n",
              "    </tr>\n",
              "    <tr>\n",
              "      <th>1</th>\n",
              "      <td>1</td>\n",
              "      <td>&lt;p&gt;г.Белгород, пр.Славы, д.39, подъезд № 4 состояние проводов проводки и самих щитовых просто удручает.внутри горелые обгоревщие провода ., много мусора. хотя согласно сайта УК там должна проводиться ревизия 12 раз в год.&lt;/p&gt;</td>\n",
              "      <td>1048</td>\n",
              "      <td>verified</td>\n",
              "      <td>Несвоевременный (некачественный) текущий ремонт многоквартирного дома</td>\n",
              "      <td>0</td>\n",
              "      <td>0</td>\n",
              "      <td>Администрация городского округа «Город Белгород»</td>\n",
              "      <td>| Отдел по жилищному контролю и защите прав потребителей в сфере ЖКХ администрации города Белгорода, рассмотрев обращение по вопросу проведения ремонтных работ электрических щитков подъезда № 4 многоквартирного  дома № 39 по пр. Славы, сообщает, что данные работы выполнены, о чем имеется фотоотчёт.</td>\n",
              "      <td>NaN</td>\n",
              "      <td>NaN</td>\n",
              "      <td>| Администрация городского округа «Город Белгород»</td>\n",
              "      <td>NaN</td>\n",
              "      <td>nan</td>\n",
              "      <td>0.00</td>\n",
              "    </tr>\n",
              "    <tr>\n",
              "      <th>...</th>\n",
              "      <td>...</td>\n",
              "      <td>...</td>\n",
              "      <td>...</td>\n",
              "      <td>...</td>\n",
              "      <td>...</td>\n",
              "      <td>...</td>\n",
              "      <td>...</td>\n",
              "      <td>...</td>\n",
              "      <td>...</td>\n",
              "      <td>...</td>\n",
              "      <td>...</td>\n",
              "      <td>...</td>\n",
              "      <td>...</td>\n",
              "      <td>...</td>\n",
              "      <td>...</td>\n",
              "    </tr>\n",
              "    <tr>\n",
              "      <th>10330</th>\n",
              "      <td>10330</td>\n",
              "      <td>&lt;p&gt;Здравствуйте.Обращаются к вам жители д 30 по ул.5 Августа.Наш дом построен в 1972 г.Течет крыша с 5 эт.до первого.Мягкая кровля отслоилась от бетона,поэтому точечный (латочный) ремонт,который УК производит каждый год не дает результата.Капит.ремонт нашего дома запланирован в 2025-2027 гг г.Боимся,что к этому времени ремонт уже не будет актуален.Т.к по швам течет вода и не успевает просыхать.Дом разрушается.В домах намного младше нашего,к тому же кирпичных,сделали давно кап.ремонт всех коммуникаций,утепления фасадов и крыши.Помогите нам сделать срочный капит. ремонт мягкой кровли крыши.Заранее спасибо.&lt;/p&gt;</td>\n",
              "      <td>339054</td>\n",
              "      <td>solved</td>\n",
              "      <td>Некачественный (необходим) капитальный ремонт многоквартирного дома</td>\n",
              "      <td>1</td>\n",
              "      <td>0</td>\n",
              "      <td>Администрация городского округа «Город Белгород»</td>\n",
              "      <td>| &lt;p&gt;Уважаемая Ирина!&lt;/p&gt;&lt;p&gt;Департамент городского хозяйства администрации города Белгорода&amp;nbsp;на&amp;nbsp;Ваше обращение по вопросу проведения капитального ремонта&amp;nbsp;многоквартирного дома&amp;nbsp;№ 30 по ул. 5 Августа,&amp;nbsp;сообщает следующее.&lt;/p&gt;&lt;p&gt;В соответствии с региональной программой&amp;nbsp;проведения капитального ремонта общего имущества в многоквартирных домах в Белгородской области, утверждённой постановлением Правительства Белгородской области от 19.08.2013 г. № 345-пп (в редакции от 16.12.2019 г. № 566-пп) (далее – Региональная программа), капитальный ремонт общего имущества указанного дома запланирован в период 2025-2027 гг.&amp;nbsp;&lt;/p&gt;&lt;p&gt;Собственниками помещений многоквартирного дома № 30 по ул. 5 Августа принято решение о переносе сроков капитального ремонта кровли в соответствии с постановлением Правительства Белгородской области от 31.08.2015 г. № 318-пп «Об утверждении Порядка установления необходимости проведения капитального ремонта общего имущества в многоквартирных домах в Белгородской области» на более ранний период, чем предусмотрено Региональной программой.&lt;/p&gt;&lt;p&gt;На основании представленных документов&amp;nbsp;департаментом городского хозяйства администрации города Белгорода создана заявка в автоматизированной информационной системе «Город» и рассмотрена НО «Фонд содействия реформированию ЖКХ Белгородской области» (региональный оператор). По результатам рассмотрения выявлены замечания в оформлении протокола общего собрания собственников и акта технического состояния дома.&amp;nbsp;&lt;/p&gt;&lt;p&gt;В целях дальнейшего рассмотрения уполномоченной комиссией вопроса переноса срока капитального ремонта кровли дома № 30 по ул. 5 Августа на более ранний период, чем предусмотрено Региональной программой, собственникам помещений дома совместно с управляющей компанией, обслуживающей дом, необходимо исправить выявленные замечания и предоставить откорректированные документы в администрацию города Белгорода.&lt;/p&gt;</td>\n",
              "      <td>NaN</td>\n",
              "      <td>NaN</td>\n",
              "      <td>| Администрация городского округа «Город Белгород»</td>\n",
              "      <td>NaN</td>\n",
              "      <td>nan</td>\n",
              "      <td>4.00</td>\n",
              "    </tr>\n",
              "    <tr>\n",
              "      <th>10331</th>\n",
              "      <td>10331</td>\n",
              "      <td>Сбоку здания ДК Энергомаш не работают фонарные столбы</td>\n",
              "      <td>341250</td>\n",
              "      <td>solved</td>\n",
              "      <td>Неработающее наружное освещение</td>\n",
              "      <td>1</td>\n",
              "      <td>0</td>\n",
              "      <td>Администрация городского округа «Город Белгород»</td>\n",
              "      <td>| &lt;p&gt;Уважаемый Иван! По представленным фотоматериалам невозможно определить где именно не работает наружное освещение, а геолокация отмечена за несколько кварталов от указанного адреса. Создайте, пожалуйста, новое сообщение с уточненными данными.&lt;/p&gt;</td>\n",
              "      <td>NaN</td>\n",
              "      <td>NaN</td>\n",
              "      <td>| Администрация городского округа «Город Белгород»</td>\n",
              "      <td>NaN</td>\n",
              "      <td>nan</td>\n",
              "      <td>0.00</td>\n",
              "    </tr>\n",
              "  </tbody>\n",
              "</table>\n",
              "<p>10332 rows × 15 columns</p>\n",
              "</div>"
            ],
            "text/plain": [
              "       Unnamed: 0  ... days_to_solve\n",
              "0               0  ...          0.00\n",
              "1               1  ...          0.00\n",
              "...           ...  ...           ...\n",
              "10330       10330  ...          4.00\n",
              "10331       10331  ...          0.00\n",
              "\n",
              "[10332 rows x 15 columns]"
            ]
          },
          "metadata": {
            "tags": []
          },
          "execution_count": 6
        }
      ]
    },
    {
      "cell_type": "markdown",
      "metadata": {
        "id": "Mt4Vnp-KQ-QE"
      },
      "source": [
        "Заменяем все Nan на 'неизвестно'"
      ]
    },
    {
      "cell_type": "code",
      "metadata": {
        "id": "yRiHMG0TCF89",
        "outputId": "3ee82817-976e-4d99-ba8a-9f39e5f465ba",
        "colab": {
          "base_uri": "https://localhost:8080/"
        }
      },
      "source": [
        "for i in column_name_str:\n",
        "    for j in range(len(data)):\n",
        "      if data[i].isnull()[j] == True:\n",
        "        data[i][j] = 'неизвестно'\n"
      ],
      "execution_count": null,
      "outputs": [
        {
          "output_type": "stream",
          "text": [
            "/usr/local/lib/python3.6/dist-packages/ipykernel_launcher.py:4: SettingWithCopyWarning: \n",
            "A value is trying to be set on a copy of a slice from a DataFrame\n",
            "\n",
            "See the caveats in the documentation: https://pandas.pydata.org/pandas-docs/stable/user_guide/indexing.html#returning-a-view-versus-a-copy\n",
            "  after removing the cwd from sys.path.\n"
          ],
          "name": "stderr"
        }
      ]
    },
    {
      "cell_type": "markdown",
      "metadata": {
        "id": "d23L0aNqJyTd"
      },
      "source": [
        "Все символы переводятся в нижний регистр"
      ]
    },
    {
      "cell_type": "code",
      "metadata": {
        "id": "bF5NyXtY6Jy9",
        "outputId": "f8e95c9a-731b-42f8-cf72-e023055c81a8",
        "colab": {
          "base_uri": "https://localhost:8080/",
          "height": 52
        }
      },
      "source": [
        "data['description'] = data['description'].str.lower()\n",
        "data['name'] = data['name'].str.lower()\n",
        "data['executor'] = data['executor'].str.lower()\n",
        "data['responsibleperson_msg'] = data['responsibleperson_msg'].str.lower()\n",
        "data['responsibleperson_name'] = data['responsibleperson_name'].str.lower()\n",
        "'''data['moderateperson_name'] = data['moderateperson_name'].str.lower()\n",
        "data['moderateperson_msg'] = data['moderateperson_msg'].str.lower()\n",
        "data['privateperson_name'] = data['privateperson_name'].str.lower()\n",
        "data['privateperson_msg'] = data['privateperson_msg'].str.lower'''"
      ],
      "execution_count": null,
      "outputs": [
        {
          "output_type": "execute_result",
          "data": {
            "application/vnd.google.colaboratory.intrinsic+json": {
              "type": "string"
            },
            "text/plain": [
              "\"data['moderateperson_name'] = data['moderateperson_name'].str.lower()\\ndata['moderateperson_msg'] = data['moderateperson_msg'].str.lower()\\ndata['privateperson_name'] = data['privateperson_name'].str.lower()\\ndata['privateperson_msg'] = data['privateperson_msg'].str.lower\""
            ]
          },
          "metadata": {
            "tags": []
          },
          "execution_count": 8
        }
      ]
    },
    {
      "cell_type": "markdown",
      "metadata": {
        "id": "M42Am_5TJ1MF"
      },
      "source": [
        "Лемматизация слов"
      ]
    },
    {
      "cell_type": "code",
      "metadata": {
        "id": "HSnSG2IzANl0",
        "outputId": "3bb09add-9123-4990-8599-ff8818d63db8",
        "colab": {
          "base_uri": "https://localhost:8080/"
        }
      },
      "source": [
        "morph = pymorphy2.MorphAnalyzer()\n",
        "patterns = \"[A-Za-z0-9!#$%&'()*+,./:;<=>?@[\\]^_`{|}~—\\\"\\-]+\"\n",
        "for q in column_name_str:\n",
        "  for i in range(len(data[q])):\n",
        "      data[q][i] = re.sub(patterns,'',data[q][i])\n",
        "      data[q][i] = data[q][i].split()\n",
        "      for j in range(len(data[q][i])):\n",
        "        data[q][i][j] = data[q][i][j].strip()\n",
        "        data[q][i][j] = morph.normal_forms(data[q][i][j])\n"
      ],
      "execution_count": null,
      "outputs": [
        {
          "output_type": "stream",
          "text": [
            "/usr/local/lib/python3.6/dist-packages/ipykernel_launcher.py:5: SettingWithCopyWarning: \n",
            "A value is trying to be set on a copy of a slice from a DataFrame\n",
            "\n",
            "See the caveats in the documentation: https://pandas.pydata.org/pandas-docs/stable/user_guide/indexing.html#returning-a-view-versus-a-copy\n",
            "  \"\"\"\n",
            "/usr/local/lib/python3.6/dist-packages/ipykernel_launcher.py:6: SettingWithCopyWarning: \n",
            "A value is trying to be set on a copy of a slice from a DataFrame\n",
            "\n",
            "See the caveats in the documentation: https://pandas.pydata.org/pandas-docs/stable/user_guide/indexing.html#returning-a-view-versus-a-copy\n",
            "  \n"
          ],
          "name": "stderr"
        }
      ]
    },
    {
      "cell_type": "code",
      "metadata": {
        "id": "hrVXcyKVK5L6"
      },
      "source": [
        "from gensim.models import Word2Vec\n",
        "w2v_model = Word2Vec(\n",
        "    min_count=10,\n",
        "    window=2,\n",
        "    size=300,\n",
        "    negative=10,\n",
        "    alpha=0.03,\n",
        "    min_alpha=0.0007,\n",
        "    sample=6e-5,\n",
        "    sg=1)"
      ],
      "execution_count": null,
      "outputs": []
    },
    {
      "cell_type": "code",
      "metadata": {
        "id": "NG4U66kA5a8s"
      },
      "source": [
        "data.to_csv('All_good_data(lemmatization).csv')"
      ],
      "execution_count": null,
      "outputs": []
    },
    {
      "cell_type": "code",
      "metadata": {
        "id": "k-hk9dgBYMeJ",
        "outputId": "1e2aec63-aafa-433b-f180-dc44202ee602",
        "colab": {
          "base_uri": "https://localhost:8080/",
          "height": 17
        }
      },
      "source": [
        "files.download('All_good_data(lemmatization).csv')"
      ],
      "execution_count": null,
      "outputs": [
        {
          "output_type": "display_data",
          "data": {
            "application/javascript": [
              "\n",
              "    async function download(id, filename, size) {\n",
              "      if (!google.colab.kernel.accessAllowed) {\n",
              "        return;\n",
              "      }\n",
              "      const div = document.createElement('div');\n",
              "      const label = document.createElement('label');\n",
              "      label.textContent = `Downloading \"${filename}\": `;\n",
              "      div.appendChild(label);\n",
              "      const progress = document.createElement('progress');\n",
              "      progress.max = size;\n",
              "      div.appendChild(progress);\n",
              "      document.body.appendChild(div);\n",
              "\n",
              "      const buffers = [];\n",
              "      let downloaded = 0;\n",
              "\n",
              "      const channel = await google.colab.kernel.comms.open(id);\n",
              "      // Send a message to notify the kernel that we're ready.\n",
              "      channel.send({})\n",
              "\n",
              "      for await (const message of channel.messages) {\n",
              "        // Send a message to notify the kernel that we're ready.\n",
              "        channel.send({})\n",
              "        if (message.buffers) {\n",
              "          for (const buffer of message.buffers) {\n",
              "            buffers.push(buffer);\n",
              "            downloaded += buffer.byteLength;\n",
              "            progress.value = downloaded;\n",
              "          }\n",
              "        }\n",
              "      }\n",
              "      const blob = new Blob(buffers, {type: 'application/binary'});\n",
              "      const a = document.createElement('a');\n",
              "      a.href = window.URL.createObjectURL(blob);\n",
              "      a.download = filename;\n",
              "      div.appendChild(a);\n",
              "      a.click();\n",
              "      div.remove();\n",
              "    }\n",
              "  "
            ],
            "text/plain": [
              "<IPython.core.display.Javascript object>"
            ]
          },
          "metadata": {
            "tags": []
          }
        },
        {
          "output_type": "display_data",
          "data": {
            "application/javascript": [
              "download(\"download_680ba06b-23eb-4ed6-9865-03f099217883\", \"All_good_data(lemmatization).csv\", 43101732)"
            ],
            "text/plain": [
              "<IPython.core.display.Javascript object>"
            ]
          },
          "metadata": {
            "tags": []
          }
        }
      ]
    }
  ]
}