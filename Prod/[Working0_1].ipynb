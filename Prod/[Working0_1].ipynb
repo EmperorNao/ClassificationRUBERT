{
  "nbformat": 4,
  "nbformat_minor": 0,
  "metadata": {
    "colab": {
      "name": "[Working0.1].ipynb",
      "provenance": [],
      "collapsed_sections": []
    },
    "kernelspec": {
      "display_name": "Python 3",
      "name": "python3"
    }
  },
  "cells": [
    {
      "cell_type": "markdown",
      "metadata": {
        "id": "f16HTHIf9ESw"
      },
      "source": [
        "Зависимости"
      ]
    },
    {
      "cell_type": "markdown",
      "metadata": {
        "id": "V4vRu3xp2CQI"
      },
      "source": [
        "Для БЕРТа "
      ]
    },
    {
      "cell_type": "code",
      "metadata": {
        "id": "WSxiKrVne8of"
      },
      "source": [
        "!pip install tensorflow-gpu==1.15.2\n",
        "!pip install deeppavlov\n",
        "!python -m deeppavlov install ner_ontonotes_bert_mult\n",
        "!pip install pymorphy2"
      ],
      "execution_count": null,
      "outputs": []
    },
    {
      "cell_type": "markdown",
      "metadata": {
        "id": "BjaoFBaz2HaR"
      },
      "source": [
        "Всякое ~"
      ]
    },
    {
      "cell_type": "code",
      "metadata": {
        "id": "YHGHjzkj9SsR"
      },
      "source": [
        "!pip install numpy\n",
        "!pip install pandas\n",
        "!pip install sklearn"
      ],
      "execution_count": null,
      "outputs": []
    },
    {
      "cell_type": "code",
      "metadata": {
        "id": "qL-rIUlz2WHg"
      },
      "source": [
        "Лемматизация"
      ],
      "execution_count": null,
      "outputs": []
    },
    {
      "cell_type": "code",
      "metadata": {
        "id": "nsy-tCyjbUsC"
      },
      "source": [
        "!pip install pymorphy2"
      ],
      "execution_count": null,
      "outputs": []
    },
    {
      "cell_type": "code",
      "metadata": {
        "id": "CsRVi8a2bJCi"
      },
      "source": [
        "import pandas as pd\n",
        "import numpy as np\n",
        "import pymorphy2\n",
        "import pandas as pd\n",
        "import numpy as np\n",
        "import re\n",
        "import warnings\n",
        "warnings.filterwarnings(\"ignore\")\n",
        "\n",
        "from deeppavlov import configs, build_model\n",
        "from nltk.tokenize import sent_tokenize, word_tokenize\n",
        "from sklearn.model_selection import train_test_split\n",
        "from sklearn.ensemble import GradientBoostingClassifier\n",
        "from sklearn.metrics import accuracy_score, f1_score, recall_score\n",
        "from joblib import dump, load"
      ],
      "execution_count": 30,
      "outputs": []
    },
    {
      "cell_type": "markdown",
      "metadata": {
        "id": "dq6a4US42fWC"
      },
      "source": [
        "Это для колаба - если файлы располагаются локально, то это не нужно выполнять"
      ]
    },
    {
      "cell_type": "code",
      "metadata": {
        "id": "QYEoFf56aHwI"
      },
      "source": [
        "from google.colab import files"
      ],
      "execution_count": 31,
      "outputs": []
    },
    {
      "cell_type": "markdown",
      "metadata": {
        "id": "FQPUGra02osv"
      },
      "source": [
        "Примеры, в каком формате нам подавались файлы, присутствуют  в папке"
      ]
    },
    {
      "cell_type": "code",
      "metadata": {
        "colab": {
          "resources": {
            "http://localhost:8080/nbextensions/google.colab/files.js": {
              "data": "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",
              "ok": true,
              "headers": [
                [
                  "content-type",
                  "application/javascript"
                ]
              ],
              "status": 200,
              "status_text": ""
            }
          },
          "base_uri": "https://localhost:8080/",
          "height": 144
        },
        "id": "GMRy335GaNJn",
        "outputId": "265c9169-8fe8-4653-e084-6bf33712851e"
      },
      "source": [
        "files.upload()"
      ],
      "execution_count": 32,
      "outputs": [
        {
          "output_type": "display_data",
          "data": {
            "text/html": [
              "\n",
              "     <input type=\"file\" id=\"files-18e75f0d-2293-40d3-b81e-2ba812f3fbf6\" name=\"files[]\" multiple disabled\n",
              "        style=\"border:none\" />\n",
              "     <output id=\"result-18e75f0d-2293-40d3-b81e-2ba812f3fbf6\">\n",
              "      Upload widget is only available when the cell has been executed in the\n",
              "      current browser session. Please rerun this cell to enable.\n",
              "      </output>\n",
              "      <script src=\"/nbextensions/google.colab/files.js\"></script> "
            ],
            "text/plain": [
              "<IPython.core.display.HTML object>"
            ]
          },
          "metadata": {
            "tags": []
          }
        },
        {
          "output_type": "stream",
          "text": [
            "Saving Переписка_По_Проблемам.xlsx to Переписка_По_Проблемам (2).xlsx\n",
            "Saving Проблемы с фото в ответе.xlsx to Проблемы с фото в ответе (2).xlsx\n",
            "Saving Список_Проблем.xlsx to Список_Проблем (2).xlsx\n"
          ],
          "name": "stdout"
        }
      ]
    },
    {
      "cell_type": "code",
      "metadata": {
        "id": "fGvVrIQkaid0"
      },
      "source": [
        "msg = pd.read_excel(\"Переписка_По_Проблемам.xlsx\")\n",
        "photo_in_answer = pd.read_excel(\"Проблемы с фото в ответе.xlsx\")\n",
        "troubles = pd.read_excel(\"Список_Проблем.xlsx\")"
      ],
      "execution_count": 33,
      "outputs": []
    },
    {
      "cell_type": "markdown",
      "metadata": {
        "id": "8cV2V2Ls2x06"
      },
      "source": [
        "Функция для всего препроцессинга - делается достаточно долго для больших данных, т.к лемматизация и разметка БЕРТом\n",
        "\n",
        "> preprocess\n",
        "\n",
        "Передаём соответственно три датафрейма: с проблемами, по поводу фото от ответчика, и с перепиской, параметр train отвечает за то, нужно ли делать колонку target со значениями предсказывемой переменной"
      ]
    },
    {
      "cell_type": "code",
      "metadata": {
        "id": "H_ZEtnJbwcwE"
      },
      "source": [
        "def preprocess(troubles, photo_in_answer, msg, train = True):\n",
        "  \n",
        "  # Ставим 1 там, для каких проблем есть фото, используем id для поиска\n",
        "  troubles['is_photo_answer'] = 0\n",
        "  for i in range(0, len(photo_in_answer)):\n",
        "    troubles['is_photo_answer'][troubles['entity_id'] ==  photo_in_answer['id'][i]] = 1\n",
        "\n",
        "  # В данных которые нам дали, было 34 NaN по solved - это для того, чтобы не проскакивала ошибка\n",
        "  troubles['solved_at'][pd.isna(troubles['solved_at'])] = troubles['created_at'][pd.isna(troubles['solved_at'])]\n",
        "  # Количество дней между solved и created\n",
        "  troubles['days_to_solve'] = (troubles['solved_at'] -  troubles['created_at']).dt.days\n",
        "\n",
        "  # Заполняем колонку с сообщениями от responsibleperson\n",
        "  troubles['responsibleperson_msg'] = ' '\n",
        "  for i in range(0, len(msg)):\n",
        "\n",
        "    if (msg.person__polymorphic_ctype__model[i] == 'responsibleperson') :\n",
        "\n",
        "      troubles['responsibleperson_msg'][troubles['entity_id'] ==  msg['entity__id'][i]] += ' | ' + str(msg['description'][i])\n",
        "\n",
        "  # Гипотезы, отобранные вручную\n",
        "\n",
        "  troubles['HypРекомендация'] = 0\n",
        "  troubles['HypЗапрос'] = 0\n",
        "  troubles['HypПланировать'] = 0\n",
        "  troubles['HypФото'] = 0\n",
        "  troubles['HypГод'] = 0\n",
        "  troubles['HypРемонт'] = 0\n",
        "  troubles['HypРабота'] = 0\n",
        "  troubles['HypРассмотреть'] = 0\n",
        "  troubles['HypВыезд'] = 0\n",
        "\n",
        "  # Тут делается лемматизация\n",
        "\n",
        "  morph = pymorphy2.MorphAnalyzer()\n",
        "  troubles['responsibleperson_msg'] = troubles['responsibleperson_msg'].str.lower()\n",
        "  patterns = \"[A-Za-z0-9!#$%&'()*+,./:;<=>?@[\\]^_`{|}~—\\\"\\-]+\"\n",
        "  for i in range(len(troubles['responsibleperson_msg'])):\n",
        "\n",
        "      troubles['responsibleperson_msg'][i] = re.sub(patterns,'', troubles['responsibleperson_msg'][i])\n",
        "      troubles['responsibleperson_msg'][i] = troubles['responsibleperson_msg'][i].split()\n",
        "\n",
        "      for j in range(len(troubles['responsibleperson_msg'][i])):\n",
        "\n",
        "        troubles['responsibleperson_msg'][i][j] = troubles['responsibleperson_msg'][i][j].strip()\n",
        "        # получаем соответсвующее слово\n",
        "        word = morph.normal_forms(troubles['responsibleperson_msg'][i][j])\n",
        "\n",
        "        # Заполняем гипотезы по словам для соответствующей проблемы\n",
        "        troubles['HypФото'][i] = int(troubles['is_photo_answer'][i])\n",
        "\n",
        "        if word == 'выезд':\n",
        "          troubles['HypВыезд'][i] = 1\n",
        "\n",
        "        if word == 'год':\n",
        "          troubles['HypГод'][i] = 1\n",
        "\n",
        "        if (word == 'запрос'):\n",
        "          troubles['HypЗапрос'][i] = 1\n",
        "\n",
        "        if (word == 'рассмотреть') or ( word == 'рассмотрение'):\n",
        "          troubles['HypРассмотреть'][i] = 1\n",
        "\n",
        "        if (word == 'план') or (word == 'планировать') or (word == 'запланировать') or (word == 'планироваться') or (word == 'плановый'):\n",
        "          troubles['HypПланировать'][i] = 1\n",
        "\n",
        "        if (word == 'рекомендация'):\n",
        "          troubles['HypРекомендация'][i] = 1\n",
        "\n",
        "        if (word == 'работа'):\n",
        "          troubles['HypРабота'][i] = 1\n",
        "\n",
        "        if (word == 'ремонт'):\n",
        "          troubles['HypРемонт'][i] = 1\n",
        "\n",
        "  # БЕРТ\n",
        "  ner_model = build_model(configs.ner.ner_ontonotes_bert_mult, download=True)\n",
        "\n",
        "  # Гипотезы, которые может доставать БЕРТ\n",
        "  troubles['HypLocation'] = 0\n",
        "  troubles['HypMoney'] = 0\n",
        "  troubles['HypDate'] = 0\n",
        "  troubles['HypTime'] = 0\n",
        "  troubles['HypPerson'] = 0\n",
        "  troubles['HypOrganization'] = 0\n",
        "  troubles['HypGPE'] = 0\n",
        "  troubles['HypFacility'] = 0\n",
        "\n",
        "\n",
        "  for i in range(len(troubles['responsibleperson_msg'])):\n",
        "\n",
        "      # Это делается достаточно долго, так что можно делать логи, чтобы не умереть от ожидания ///\n",
        "      if (i % 100 == 0) :\n",
        "        print(i)\n",
        "\n",
        "      # Токенизируем и разбираем на составляющие\n",
        "      t = sent_tokenize(str(troubles['responsibleperson_msg'][i]))\n",
        "      for j in range(len(t)):\n",
        "          if len(t[j]) < 512:\n",
        "              NER = ner_model([t[j]])\n",
        "              if 'B-LOCATION' in NER[1][0]:\n",
        "                troubles['HypLocation'][i] += 1\n",
        "              if 'B-MONEY' in NER[1][0]:\n",
        "                troubles['HypMoney'][i] += 1\n",
        "              if 'B-DATE' in NER[1][0]:\n",
        "                troubles['HypDate'][i] += 1\n",
        "              if 'B-TIME' in NER[1][0]:\n",
        "                troubles['HypTime'][i] += 1\n",
        "              if 'B-PERSON' in NER[1][0]:\n",
        "                troubles['HypPerson'][i] += 1\n",
        "              if 'B-ORGANIZATION' in NER[1][0]:\n",
        "                troubles['HypOrganization'][i] += 1\n",
        "              if 'B-GPE' in NER[1][0]:\n",
        "                troubles['HypGPE'][i] += 1\n",
        "              if 'B-FAC':\n",
        "                troubles['HypFacility'] += 1\n",
        "\n",
        "  # Если есть время отправки на доработку, значит - таргет 1, т.е отмазка\n",
        "  # иначе 0, если NaN\n",
        "  if train:\n",
        "    troubles['target'] = 1\n",
        "    troubles['target'][pd.isna(troubles['rework_at'])] = 0 \n",
        "\n",
        "  return troubles\n",
        "\n",
        "  "
      ],
      "execution_count": 34,
      "outputs": []
    },
    {
      "cell_type": "markdown",
      "metadata": {
        "id": "q6aqAlrw4uDe"
      },
      "source": [
        "Пример"
      ]
    },
    {
      "cell_type": "code",
      "metadata": {
        "colab": {
          "base_uri": "https://localhost:8080/"
        },
        "id": "Jf7AM56vfQ2s",
        "outputId": "6c6ed78d-24f3-4d69-b2fa-47f213bd49f5"
      },
      "source": [
        "data = preprocess(troubles, photo_in_answer, msg, True)"
      ],
      "execution_count": 35,
      "outputs": [
        {
          "output_type": "stream",
          "text": [
            "2020-11-29 11:36:42.76 INFO in 'deeppavlov.download'['download'] at line 138: Skipped http://files.deeppavlov.ai/deeppavlov_data/bert/multi_cased_L-12_H-768_A-12.zip download because of matching hashes\n",
            "2020-11-29 11:37:08.122 INFO in 'deeppavlov.download'['download'] at line 138: Skipped http://files.deeppavlov.ai/deeppavlov_data/ner_ontonotes_bert_mult_v1.tar.gz download because of matching hashes\n",
            "2020-11-29 11:37:08.509 INFO in 'deeppavlov.core.data.simple_vocab'['simple_vocab'] at line 115: [loading vocabulary from /root/.deeppavlov/models/ner_ontonotes_bert_mult/tag.dict]\n",
            "2020-11-29 11:37:39.504 INFO in 'deeppavlov.core.models.tf_model'['tf_model'] at line 51: [loading model from /root/.deeppavlov/models/ner_ontonotes_bert_mult/model]\n"
          ],
          "name": "stderr"
        },
        {
          "output_type": "stream",
          "text": [
            "INFO:tensorflow:Restoring parameters from /root/.deeppavlov/models/ner_ontonotes_bert_mult/model\n",
            "0\n"
          ],
          "name": "stdout"
        }
      ]
    },
    {
      "cell_type": "markdown",
      "metadata": {
        "id": "uSVU8f-f4xil"
      },
      "source": [
        "Моделька, чтобы можно было управлять трешхолдом (начиная с какой вероятности мы можем считать, что объект относится к классу не отмазка)"
      ]
    },
    {
      "cell_type": "code",
      "metadata": {
        "id": "X4oEajxqqijl"
      },
      "source": [
        "class model:\n",
        "\n",
        "  def __init__(self, threshold, clf):\n",
        "\n",
        "    self.clf = clf\n",
        "    self.threshold = threshold\n",
        "\n",
        "  def predict(self, X):\n",
        "    predicted = self.clf.predict_proba(X)\n",
        "    y = []\n",
        "    for line in predicted:\n",
        "      if (line[0] > self.threshold):\n",
        "        y.append(0)\n",
        "      else:\n",
        "        y.append(1)\n",
        "    return y\n",
        "\n",
        "  # сохранение и загрузка модельки, просто передать имя файла /// аналог pickle\n",
        "  def save_model(self, filename):\n",
        "\n",
        "    dump(self.clf, filename + '.joblib') \n",
        "\n",
        "  def load_model(self, filename):\n",
        "\n",
        "     self.clf = load(filename + '.joblib') \n"
      ],
      "execution_count": 59,
      "outputs": []
    },
    {
      "cell_type": "markdown",
      "metadata": {
        "id": "A6YyXHQZ5SOh"
      },
      "source": [
        "Это train - передаём фичи X, таргет X, базовый классификатор clf"
      ]
    },
    {
      "cell_type": "code",
      "metadata": {
        "id": "MGz7urjoblme"
      },
      "source": [
        "def train(X, y, clf):\n",
        "\n",
        "  # сплитим трейн/тест\n",
        "  X_train, X_test, y_train, y_test = train_test_split(X, y, test_size=0.2, random_state=42)\n",
        "\n",
        "  # учим базовый классифайер\n",
        "  clf.fit(X_train, y_train)\n",
        "  \n",
        "  # будем подбирать параметры перебором\n",
        "  best_param = 0.5\n",
        "  best_res = 0\n",
        "\n",
        "  # трешхолд in [0.5, 0.95)\n",
        "  # так, чтобы F метрика не очень страдала, но и рекол был как можно лучше\n",
        "  for treshold in [0.5 + i*0.01 for i in range(0, 45)]:\n",
        "\n",
        "    m = model(treshold, clf)\n",
        "    res = m.predict(X_test)\n",
        "    fscore = f1_score(y_test, res, average='weighted')\n",
        "    recall = recall_score(y_test, res)\n",
        "    if (fscore > 0.88) and (recall > best_res):\n",
        "\n",
        "      best_res = recall\n",
        "      best_param = treshold\n",
        "\n",
        "\n",
        "  m = model(best_param, clf)\n",
        "  # параметр сохраняется в модельке, но выведем для наглядности характеристики\n",
        "  print('Best param: ', best_param) # параметр, т.е на каком трешхолде достигнуто. Если вероятность для класса с не отмазками \n",
        "  # больше него, тогда относим к этому классу, иначе к другому\n",
        "\n",
        "  # лучший рекол и все остальные метрики\n",
        "  print('Best recall: ', best_res) \n",
        "  print('Accuracy %s' % accuracy_score(y_test, m.predict(X_test)))\n",
        "  print('F1 score: ', f1_score(y_test, m.predict(X_test), average='weighted'))\n",
        "\n",
        "  return m\n"
      ],
      "execution_count": 51,
      "outputs": []
    },
    {
      "cell_type": "markdown",
      "metadata": {
        "id": "MCgKP8-Z6O92"
      },
      "source": [
        "Все фичи для модели и наш таргет"
      ]
    },
    {
      "cell_type": "code",
      "metadata": {
        "id": "GZAnGWeOwqUL"
      },
      "source": [
        "features = ['days_to_solve', 'HypРекомендация','HypЗапрос', 'HypПланировать', 'HypФото', 'HypГод', 'HypРемонт', 'HypРабота', 'HypРассмотреть','HypВыезд', 'HypLocation','HypMoney',\t'HypDate',\t'HypTime',\t'HypPerson','HypOrganization',\t'HypGPE',\t'HypFacility']\n",
        "target = 'target'"
      ],
      "execution_count": 50,
      "outputs": []
    },
    {
      "cell_type": "markdown",
      "metadata": {
        "id": "K82A8B3g6R4c"
      },
      "source": [
        "Так обучаем - получаем обратно модель"
      ]
    },
    {
      "cell_type": "code",
      "metadata": {
        "id": "jGkSuFaEvI55"
      },
      "source": [
        "m = train(data[features], data[target], GradientBoostingClassifier())"
      ],
      "execution_count": null,
      "outputs": []
    },
    {
      "cell_type": "markdown",
      "metadata": {
        "id": "NqAwskGX6XDq"
      },
      "source": [
        "Так можем её сохранить, а потом подгрузить где нам нужно - но при этом необходимо будет объявить класс model, конечно же"
      ]
    },
    {
      "cell_type": "code",
      "metadata": {
        "id": "1_rl-JMGyf5F"
      },
      "source": [
        "m.save_model('Boosting')"
      ],
      "execution_count": 61,
      "outputs": []
    },
    {
      "cell_type": "markdown",
      "metadata": {
        "id": "1jf0sB_76ctG"
      },
      "source": [
        "Например загрузим вот так"
      ]
    },
    {
      "cell_type": "code",
      "metadata": {
        "id": "q6xL3olfykYk"
      },
      "source": [
        "m.load_model('Boosting')"
      ],
      "execution_count": 62,
      "outputs": []
    },
    {
      "cell_type": "markdown",
      "metadata": {
        "id": "m6HUetne6eIS"
      },
      "source": [
        "Предскажем таргет для всех данных"
      ]
    },
    {
      "cell_type": "code",
      "metadata": {
        "id": "RfaVzNCVwmIQ"
      },
      "source": [
        "data['Predict'] = m.predict(data[features])"
      ],
      "execution_count": 64,
      "outputs": []
    },
    {
      "cell_type": "code",
      "metadata": {
        "id": "tvvdCdGSw8wD"
      },
      "source": [
        "df = pd.DataFrame({'entity_id':data['entity_id'], 'Predict':data['Predict'], 'target':data['target']})"
      ],
      "execution_count": 74,
      "outputs": []
    },
    {
      "cell_type": "code",
      "metadata": {
        "id": "lM-GndGJ0pmy"
      },
      "source": [
        "df.to_excel(\"Predicted.xlsx\")"
      ],
      "execution_count": 77,
      "outputs": []
    },
    {
      "cell_type": "markdown",
      "metadata": {
        "id": "Ww5nncni6ivb"
      },
      "source": [
        "Загрузка из коллаба, если на локальном устройство, то не нужно"
      ]
    },
    {
      "cell_type": "code",
      "metadata": {
        "id": "GZU0wJio07ds"
      },
      "source": [
        "files.download(\"Predicted.xlsx\")"
      ],
      "execution_count": null,
      "outputs": []
    }
  ]
}